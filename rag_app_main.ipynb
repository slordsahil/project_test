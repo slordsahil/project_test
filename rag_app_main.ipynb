{
 "cells": [
  {
   "cell_type": "markdown",
   "metadata": {},
   "source": [
    "cell 1"
   ]
  },
  {
   "cell_type": "code",
   "execution_count": 110,
   "metadata": {},
   "outputs": [
    {
     "data": {
      "text/plain": [
       "True"
      ]
     },
     "execution_count": 110,
     "metadata": {},
     "output_type": "execute_result"
    }
   ],
   "source": [
    "# !pip install langchain openai pinecone-client python-dotenv\n",
    "\n",
    "from pinecone import Pinecone\n",
    "from langchain.embeddings import OpenAIEmbeddings\n",
    "from langchain import LLMChain\n",
    "from langchain.prompts.prompt import PromptTemplate\n",
    "from langchain.chat_models import ChatOpenAI\n",
    "import os\n",
    "from dotenv import load_dotenv\n",
    "load_dotenv()\n"
   ]
  },
  {
   "cell_type": "markdown",
   "metadata": {},
   "source": [
    "CELL 2\n",
    "\n",
    "\n"
   ]
  },
  {
   "cell_type": "code",
   "execution_count": 111,
   "metadata": {},
   "outputs": [],
   "source": [
    "pc = Pinecone(api_key='ea33957d-5f26-4206-a51a-4babdcdf6291')\n",
    "# openai api key is stored in .env file"
   ]
  },
  {
   "cell_type": "markdown",
   "metadata": {},
   "source": [
    "CELL 3"
   ]
  },
  {
   "cell_type": "code",
   "execution_count": 112,
   "metadata": {},
   "outputs": [],
   "source": [
    "history=[\n",
    "\"1: User: Hi there! How are you doing today? | Bot: Hello! I'm doing great, thank you! How can I assist you today?\",\n",
    "\"2: User: What's the weather like today in New York? | Bot: Today in New York, it's sunny with a slight chance of rain.\",\n",
    "\"3: User: Great! Do you have any good lunch suggestions? | Bot: Sure! How about trying a new salad recipe?\",\n",
    "\"4: User: That sounds healthy. Any specific recipes? | Bot: You could try a quinoa salad with avocado and chicken.\",\n",
    "\"5: User: Sounds delicious! I'll try it. What about dinner? | Bot: For dinner, you could make grilled salmon with vegetables.\",\n",
    "\"6: User: Thanks for the suggestions! Any dessert ideas? | Bot: How about a simple fruit salad or yogurt with honey?\",\n",
    "\"7: User: Perfect! Now, what are some good exercises? | Bot: You can try a mix of cardio and strength training exercises.\",\n",
    "\"8: User: Any specific recommendations for cardio? | Bot: Running, cycling, and swimming are all excellent cardio exercises.\",\n",
    "\"9: User: I'll start with running. Can you recommend any books? | Bot: 'Atomic Habits' by James Clear is a highly recommended book.\",\n",
    "\"10: User: I'll check it out. What hobbies can I take up? | Bot: You could explore painting, hiking, or learning a new instrument.\",\n",
    "\"11: User: Hiking sounds fun! Any specific trails? | Bot: There are great trails in the Rockies and the Appalachian Mountains.\",\n",
    "\"12: User: I'll plan a trip. What about indoor activities? | Bot: Indoor activities like reading, cooking, or playing board games.\",\n",
    "\"13: User: Nice! Any good board games? | Bot: Settlers of Catan and Ticket to Ride are both excellent choices.\",\n",
    "\"14: User: I'll try them out. Any movie recommendations? | Bot: 'Inception' and 'The Matrix' are must-watch movies.\",\n",
    "\"15: User: I love those movies! Any TV shows? | Bot: 'Breaking Bad' and 'Stranger Things' are very popular.\",\n",
    "\"16: User: Great choices! What about podcasts? | Bot: 'How I Built This' and 'The Daily' are very informative.\",\n",
    "\"17: User: Thanks! What are some good travel destinations? | Bot: Paris, Tokyo, and Bali are amazing travel spots.\",\n",
    "\"18: User: I'll add them to my list. Any packing tips? | Bot: Roll your clothes to save space and use packing cubes.\",\n",
    "\"19: User: That's helpful! What about travel insurance? | Bot: Always get travel insurance for safety and peace of mind.\",\n",
    "\"20: User: Thanks for the tips! Any last advice? | Bot: Just enjoy your journey and make the most out of your experiences.\"\n",
    "]\n",
    "\n",
    "embeddings=OpenAIEmbeddings(api_key=os.environ['openai_api'])\n",
    "\n",
    "query=\"Do you think it will help me stay fit?\"\n",
    "\n",
    "template=\"Write an response for  {query} where chat history are {history_data}\"\n"
   ]
  },
  {
   "cell_type": "markdown",
   "metadata": {},
   "source": [
    "CELL 4"
   ]
  },
  {
   "cell_type": "code",
   "execution_count": 113,
   "metadata": {},
   "outputs": [],
   "source": [
    "def add_embeddings_to_pinecone(history, index_name='sahil'):\n",
    "\n",
    "    ids=['1', '2', '3', '4', '5', '6', '7', '8', '9', '10', '11', '12', '13', '14', '15', '16', '17', '18', '19', '20']\n",
    "    vector_doc=[]\n",
    "   \n",
    "    for i in  history:\n",
    "        vector_doc.append(embeddings.embed_query(i))\n",
    "        \n",
    "    index = pc.Index(\"sahil\")\n",
    "    pc.describe_index(name=index_name)\n",
    "    index.upsert(vectors=zip(ids,vector_doc))\n",
    "    \n",
    "add_embeddings_to_pinecone(history)\n"
   ]
  },
  {
   "cell_type": "markdown",
   "metadata": {},
   "source": [
    "CELL 5"
   ]
  },
  {
   "cell_type": "code",
   "execution_count": 114,
   "metadata": {},
   "outputs": [],
   "source": [
    "def retrieve_relevant_history(query,index_name='sahil'):\n",
    "    index=pc.Index(index_name)\n",
    "    matching_ans=index.query(vector=embeddings.embed_query(query),top_k=3,include_values=False)\n",
    "    matching_ids = [match['id'] for match in matching_ans['matches']]\n",
    "    similarity=list(map(lambda x:history[int(x)],matching_ids))\n",
    "    return  similarity\n",
    "    "
   ]
  },
  {
   "cell_type": "markdown",
   "metadata": {},
   "source": [
    "CELL 6"
   ]
  },
  {
   "cell_type": "code",
   "execution_count": 115,
   "metadata": {},
   "outputs": [],
   "source": [
    "def prepare_prompt(test_prompt):\n",
    "    prompt=PromptTemplate(input_variables=['query','history_data'],template=test_prompt)\n",
    "    matching_answer=retrieve_relevant_history(query)\n",
    "    return prompt,matching_answer\n",
    "    "
   ]
  },
  {
   "cell_type": "markdown",
   "metadata": {},
   "source": [
    "CELL 7"
   ]
  },
  {
   "cell_type": "code",
   "execution_count": 116,
   "metadata": {},
   "outputs": [],
   "source": [
    "def test_final_prompt(question):\n",
    "\n",
    "    llm=ChatOpenAI(model_name=\"gpt-3.5-turbo\",temperature=0.9,max_tokens=225,api_key=os.environ[\"openai_api\"])\n",
    "    prompt,matching_ref=prepare_prompt(template)\n",
    "    gen=LLMChain(prompt=prompt,llm=llm)\n",
    "    final_response=gen.run({\"query\": question, \"history_data\": matching_ref})\n",
    "    print(f\"Final Test Prompt: {prompt}\")\n",
    "    print(f\"Context Referred: {matching_ref}\")\n",
    "    print(f\"Final Test Prompt Response: {final_response}\")\n",
    "    return final_response\n"
   ]
  },
  {
   "cell_type": "code",
   "execution_count": 117,
   "metadata": {},
   "outputs": [
    {
     "name": "stdout",
     "output_type": "stream",
     "text": [
      "Final Test Prompt: input_variables=['history_data', 'query'] template='Write an response for  {query} where chat history are {history_data}'\n",
      "Context Referred: ['8: User: Any specific recommendations for cardio? | Bot: Running, cycling, and swimming are all excellent cardio exercises.', \"9: User: I'll start with running. Can you recommend any books? | Bot: 'Atomic Habits' by James Clear is a highly recommended book.\", \"10: User: I'll check it out. What hobbies can I take up? | Bot: You could explore painting, hiking, or learning a new instrument.\"]\n",
      "Final Test Prompt Response: I think incorporating running into your fitness routine, along with exploring hobbies like painting, hiking, or learning a new instrument, will definitely help you stay fit. Running is a great form of cardio that can help improve your cardiovascular health and burn calories. Additionally, engaging in hobbies you enjoy will not only keep you active but also contribute to your overall well-being. Remember, consistency is key, so finding activities that you genuinely enjoy will make it easier for you to stick to your fitness goals. Good luck on your fitness journey!\n"
     ]
    },
    {
     "data": {
      "text/plain": [
       "'I think incorporating running into your fitness routine, along with exploring hobbies like painting, hiking, or learning a new instrument, will definitely help you stay fit. Running is a great form of cardio that can help improve your cardiovascular health and burn calories. Additionally, engaging in hobbies you enjoy will not only keep you active but also contribute to your overall well-being. Remember, consistency is key, so finding activities that you genuinely enjoy will make it easier for you to stick to your fitness goals. Good luck on your fitness journey!'"
      ]
     },
     "execution_count": 117,
     "metadata": {},
     "output_type": "execute_result"
    }
   ],
   "source": [
    "test_final_prompt(query)"
   ]
  }
 ],
 "metadata": {
  "kernelspec": {
   "display_name": "Python 3",
   "language": "python",
   "name": "python3"
  },
  "language_info": {
   "codemirror_mode": {
    "name": "ipython",
    "version": 3
   },
   "file_extension": ".py",
   "mimetype": "text/x-python",
   "name": "python",
   "nbconvert_exporter": "python",
   "pygments_lexer": "ipython3",
   "version": "3.10.12"
  }
 },
 "nbformat": 4,
 "nbformat_minor": 2
}
